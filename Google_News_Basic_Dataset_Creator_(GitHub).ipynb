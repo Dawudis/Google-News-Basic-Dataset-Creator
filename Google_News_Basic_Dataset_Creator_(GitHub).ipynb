{
  "nbformat": 4,
  "nbformat_minor": 0,
  "metadata": {
    "colab": {
      "provenance": [],
      "collapsed_sections": [],
      "authorship_tag": "ABX9TyNKFm+lZ9fuvz/gT5jNY6r2",
      "include_colab_link": true
    },
    "kernelspec": {
      "name": "python3",
      "display_name": "Python 3"
    },
    "language_info": {
      "name": "python"
    }
  },
  "cells": [
    {
      "cell_type": "markdown",
      "metadata": {
        "id": "view-in-github",
        "colab_type": "text"
      },
      "source": [
        "<a href=\"https://colab.research.google.com/github/Dawudis/Google-News-Basic-Dataset-Creator/blob/main/Google_News_Basic_Dataset_Creator_(GitHub).ipynb\" target=\"_parent\"><img src=\"https://colab.research.google.com/assets/colab-badge.svg\" alt=\"Open In Colab\"/></a>"
      ]
    },
    {
      "cell_type": "markdown",
      "source": [
        "Using [pygooglenews API](https://github.com/kotartemiy/pygooglenews) created by @kotartemiy"
      ],
      "metadata": {
        "id": "hAHx7Szl-zXM"
      }
    },
    {
      "cell_type": "code",
      "metadata": {
        "id": "rM7sekkadx-w"
      },
      "source": [
        "!pip install pygooglenews --upgrade\n",
        "from pygooglenews import GoogleNews\n",
        "gn = GoogleNews()"
      ],
      "execution_count": null,
      "outputs": []
    },
    {
      "cell_type": "markdown",
      "source": [
        "Configure function to retrieve urls from search term"
      ],
      "metadata": {
        "id": "TTnG1ZFY--3I"
      }
    },
    {
      "cell_type": "code",
      "source": [
        "def get_urls(search):\n",
        "  stories = []\n",
        "  search = gn.search(search)\n",
        "  newsitem = search['entries']\n",
        "  for item in newsitem:\n",
        "    story = item.link\n",
        "    stories.append(story)\n",
        "  return stories"
      ],
      "metadata": {
        "id": "hRmjcTFXwqhh"
      },
      "execution_count": null,
      "outputs": []
    },
    {
      "cell_type": "code",
      "source": [
        "import requests"
      ],
      "metadata": {
        "id": "PadVd8OmxRjH"
      },
      "execution_count": null,
      "outputs": []
    },
    {
      "cell_type": "markdown",
      "source": [
        "Configure function to retrieve urls from list of search terms and append it to list \"new_urls\""
      ],
      "metadata": {
        "id": "MnoyWPhA_FFB"
      }
    },
    {
      "cell_type": "code",
      "source": [
        "new_urls = []\n",
        "\n",
        "def stories_append(term):\n",
        "  terms = get_urls(term)\n",
        "  for i in terms:\n",
        "    try:\n",
        "      r = requests.get(i, timeout=45)\n",
        "      if r.status_code == 200:\n",
        "        new_urls.append(i)\n",
        "    except:\n",
        "      print(\"pass\")"
      ],
      "metadata": {
        "id": "wGk8PW3AJdD3"
      },
      "execution_count": null,
      "outputs": []
    },
    {
      "cell_type": "code",
      "source": [
        "vocab_list = ['healthcare','medical','doctor','surgeon','business','economy','fiscal','wages','unemployment','infrastructure','building','education','civil unrest',\n",
        "            'social unrest','environment','sanitation','pollution','climate','pandemic','food','nutrition','diet','police brutality','court','law enforcement','ethics','government']\n",
        "\n",
        "for i in vocab_list:\n",
        "  stories_append(term = i)"
      ],
      "metadata": {
        "id": "ZdmTIFZNi3pC"
      },
      "execution_count": null,
      "outputs": []
    },
    {
      "cell_type": "code",
      "source": [
        "import pandas as pd"
      ],
      "metadata": {
        "id": "ykuymLNQix_3"
      },
      "execution_count": null,
      "outputs": []
    },
    {
      "cell_type": "markdown",
      "source": [
        "Put list of urls into dataframe"
      ],
      "metadata": {
        "id": "FP71BM1T_RUU"
      }
    },
    {
      "cell_type": "code",
      "source": [
        "df = pd.DataFrame(new_urls, columns = ['urls'])"
      ],
      "metadata": {
        "id": "1DB2IFkZ8NyC"
      },
      "execution_count": null,
      "outputs": []
    },
    {
      "cell_type": "code",
      "source": [
        "df.shape"
      ],
      "metadata": {
        "id": "8REQ7s6bwIRc",
        "colab": {
          "base_uri": "https://localhost:8080/"
        },
        "outputId": "28b7da03-5e58-42f6-fbac-8ee3e2dc050b"
      },
      "execution_count": null,
      "outputs": [
        {
          "output_type": "execute_result",
          "data": {
            "text/plain": [
              "(2370, 1)"
            ]
          },
          "metadata": {},
          "execution_count": 8
        }
      ]
    },
    {
      "cell_type": "markdown",
      "source": [
        "Scrape the titles from the urls using newspaper3k. Of course, you can also find the summary, the full text, the author, publication date, etc."
      ],
      "metadata": {
        "id": "m8zpJWBlgXpo"
      }
    },
    {
      "cell_type": "code",
      "source": [
        "!pip install newspaper3k\n",
        "from newspaper import Article"
      ],
      "metadata": {
        "id": "oYnbAsCgTqIV"
      },
      "execution_count": null,
      "outputs": []
    },
    {
      "cell_type": "markdown",
      "source": [
        "Define function to scrape titles"
      ],
      "metadata": {
        "id": "juVE2jBY_h35"
      }
    },
    {
      "cell_type": "code",
      "source": [
        "article_titles = []\n",
        "for i in df['urls']:\n",
        "  try:\n",
        "    article = Article(i)\n",
        "    article.download()\n",
        "    article.parse()\n",
        "    article_titles.append(article.title)\n",
        "  except: \n",
        "    article_titles.append(\"NaN\")"
      ],
      "metadata": {
        "id": "j0FmPVY6Ttc_"
      },
      "execution_count": null,
      "outputs": []
    },
    {
      "cell_type": "code",
      "source": [
        "article_titles"
      ],
      "metadata": {
        "id": "djkuECwuUZrB"
      },
      "execution_count": null,
      "outputs": []
    },
    {
      "cell_type": "code",
      "source": [
        "df['titles'] = article_titles"
      ],
      "metadata": {
        "id": "FJ2DM_sJjBXs"
      },
      "execution_count": null,
      "outputs": []
    },
    {
      "cell_type": "code",
      "source": [
        "df.shape"
      ],
      "metadata": {
        "colab": {
          "base_uri": "https://localhost:8080/"
        },
        "id": "nhNCJErvemwH",
        "outputId": "b243a311-56d1-43c5-d332-313f2e1ad22d"
      },
      "execution_count": null,
      "outputs": [
        {
          "output_type": "execute_result",
          "data": {
            "text/plain": [
              "(2370, 2)"
            ]
          },
          "metadata": {},
          "execution_count": 8
        }
      ]
    },
    {
      "cell_type": "markdown",
      "source": [
        "Drop na values"
      ],
      "metadata": {
        "id": "BX3y4ptn_kJd"
      }
    },
    {
      "cell_type": "code",
      "source": [
        "df = df.dropna()"
      ],
      "metadata": {
        "id": "q2nGFr8Vj7S7"
      },
      "execution_count": null,
      "outputs": []
    },
    {
      "cell_type": "code",
      "source": [
        "df.shape"
      ],
      "metadata": {
        "colab": {
          "base_uri": "https://localhost:8080/"
        },
        "id": "YAxcqnulepW6",
        "outputId": "49162dd3-d81e-47aa-e693-6720f5358a6e"
      },
      "execution_count": null,
      "outputs": [
        {
          "output_type": "execute_result",
          "data": {
            "text/plain": [
              "(2370, 2)"
            ]
          },
          "metadata": {},
          "execution_count": 10
        }
      ]
    },
    {
      "cell_type": "markdown",
      "source": [
        "Drop duplicate values"
      ],
      "metadata": {
        "id": "xM8cGq-q_mOC"
      }
    },
    {
      "cell_type": "code",
      "source": [
        "df = df.drop_duplicates()"
      ],
      "metadata": {
        "id": "tDeobZmDt3Jg"
      },
      "execution_count": null,
      "outputs": []
    },
    {
      "cell_type": "code",
      "source": [
        "df.shape"
      ],
      "metadata": {
        "colab": {
          "base_uri": "https://localhost:8080/"
        },
        "id": "Ga4hcQT5fZ4A",
        "outputId": "79a1c772-3efc-42a5-b8da-1611755ac1a9"
      },
      "execution_count": null,
      "outputs": [
        {
          "output_type": "execute_result",
          "data": {
            "text/plain": [
              "(2168, 2)"
            ]
          },
          "metadata": {},
          "execution_count": 19
        }
      ]
    },
    {
      "cell_type": "markdown",
      "source": [
        "Drop NaN values"
      ],
      "metadata": {
        "id": "l4vktcEJ_nsH"
      }
    },
    {
      "cell_type": "code",
      "source": [
        "df = df[df.titles != 'NaN']"
      ],
      "metadata": {
        "id": "xMghCtPzeyGz"
      },
      "execution_count": null,
      "outputs": []
    },
    {
      "cell_type": "code",
      "source": [
        "df.shape"
      ],
      "metadata": {
        "colab": {
          "base_uri": "https://localhost:8080/"
        },
        "id": "h7ABVQbHe2g6",
        "outputId": "4f19ee81-7d67-49dd-cf7b-33c6e0872f60"
      },
      "execution_count": null,
      "outputs": [
        {
          "output_type": "execute_result",
          "data": {
            "text/plain": [
              "(2168, 2)"
            ]
          },
          "metadata": {},
          "execution_count": 16
        }
      ]
    },
    {
      "cell_type": "markdown",
      "source": [
        "Drop empty values"
      ],
      "metadata": {
        "id": "sFOwBqE5_pcl"
      }
    },
    {
      "cell_type": "code",
      "source": [
        "df = df[df.titles != \"\"]"
      ],
      "metadata": {
        "id": "7tOba9YEfyT3"
      },
      "execution_count": null,
      "outputs": []
    },
    {
      "cell_type": "code",
      "source": [
        "df.shape"
      ],
      "metadata": {
        "id": "2V2xXsMo-PJq",
        "colab": {
          "base_uri": "https://localhost:8080/"
        },
        "outputId": "cef1bba4-1937-45cc-c20c-2153c1a376ea"
      },
      "execution_count": null,
      "outputs": [
        {
          "output_type": "execute_result",
          "data": {
            "text/plain": [
              "(2114, 2)"
            ]
          },
          "metadata": {},
          "execution_count": 21
        }
      ]
    },
    {
      "cell_type": "markdown",
      "source": [
        "Convert to csv file"
      ],
      "metadata": {
        "id": "R7_vzlaZ_rKl"
      }
    },
    {
      "cell_type": "code",
      "source": [
        "df.to_csv('testwlinks.csv', index=False) #converts dataframe to csv"
      ],
      "metadata": {
        "id": "qljmwSR4zXge"
      },
      "execution_count": null,
      "outputs": []
    },
    {
      "cell_type": "code",
      "source": [
        "from google.colab import files\n",
        "files.download('testwlinks.csv')"
      ],
      "metadata": {
        "id": "WcV7hULXzebD"
      },
      "execution_count": null,
      "outputs": []
    }
  ]
}